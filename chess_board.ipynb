{
 "cells": [
  {
   "cell_type": "code",
   "execution_count": 24,
   "metadata": {},
   "outputs": [],
   "source": [
    "import numpy as np\n",
    "import matplotlib.pyplot as plt"
   ]
  },
  {
   "cell_type": "code",
   "execution_count": 25,
   "metadata": {},
   "outputs": [],
   "source": [
    "class ChessBoard:\n",
    "\n",
    "    red = [1,.2,0]\n",
    "    blue = [0,1,1]  \n",
    "\n",
    "    def __init__(self): \n",
    "        self.grid = np.ones((8,8,3)) \n",
    "        for coords in np.ndindex(8,8):\n",
    "            row = coords[0]\n",
    "            col = coords[1]\n",
    "            if row % 2 != col % 2:\n",
    "                self.grid[row, col] = [0,0,0]\n",
    "\n",
    "    def add_red(self, row, col):\n",
    "        self.grid[row][col] = self.red\n",
    "\n",
    "    def add_blue(self, row, col):\n",
    "        self.grid[row][col] = self.blue\n",
    "\n",
    "    def render(self):\n",
    "        plt.imshow(self.grid)\n",
    "\n",
    "    def under_attack(self):\n",
    "        red_location = None\n",
    "        blue_location = None\n",
    " \n",
    "        for i,row in enumerate(self.grid):\n",
    "            for j,col in enumerate(row):\n",
    "                if np.array_equal(col,self.blue):\n",
    "                    blue_location = (i,j)\n",
    "                if np.array_equal(col,self.red):\n",
    "                    red_location = (i,j)\n",
    "    \n",
    "        if not blue_location or not red_location:\n",
    "            return False\n",
    "        \n",
    "        if blue_location[0] == red_location[0] or blue_location[1] == red_location[1]:\n",
    "            return True\n",
    "\n",
    "        dx = abs(blue_location[0] - red_location[0])\n",
    "        dy = abs(blue_location[1] - red_location[1])\n",
    "\n",
    "        return dx == dy\n",
    "\n",
    "\n",
    "\n",
    "\n",
    "\n",
    "\n"
   ]
  },
  {
   "cell_type": "code",
   "execution_count": 26,
   "metadata": {},
   "outputs": [
    {
     "data": {
      "image/png": "[encoded data removed]",
      "text/plain": [
       "<Figure size 432x288 with 1 Axes>"
      ]
     },
     "metadata": {
      "needs_background": "light"
     },
     "output_type": "display_data"
    }
   ],
   "source": [
    "board = ChessBoard()\n",
    "board.render()\n"
   ]
  },
  {
   "cell_type": "code",
   "execution_count": 27,
   "metadata": {},
   "outputs": [
    {
     "data": {
      "image/png": "[encoded data removed]",
      "text/plain": [
       "<Figure size 432x288 with 1 Axes>"
      ]
     },
     "metadata": {
      "needs_background": "light"
     },
     "output_type": "display_data"
    }
   ],
   "source": [
    "\n",
    "board = ChessBoard()\n",
    "board.add_red(5,6)\n",
    "board.add_blue(3,5)\n",
    "board.render()"
   ]
  },
  {
   "cell_type": "code",
   "execution_count": 28,
   "metadata": {},
   "outputs": [
    {
     "name": "stdout",
     "output_type": "stream",
     "text": [
      "the queen is scurred\n"
     ]
    },
    {
     "data": {
      "image/png": "[encoded data removed]",
      "text/plain": [
       "<Figure size 432x288 with 1 Axes>"
      ]
     },
     "metadata": {
      "needs_background": "light"
     },
     "output_type": "display_data"
    }
   ],
   "source": [
    "board = ChessBoard()\n",
    "board.add_red(5,3)\n",
    "board.add_blue(5,7)\n",
    "\n",
    "board.render()\n",
    "\n",
    "assert board.under_attack()\n",
    "print('the queen is scurred')"
   ]
  },
  {
   "cell_type": "code",
   "execution_count": 29,
   "metadata": {},
   "outputs": [
    {
     "name": "stdout",
     "output_type": "stream",
     "text": [
      "Queen is under attack and she scurred\n"
     ]
    },
    {
     "data": {
      "image/png": "[encoded data removed]",
      "text/plain": [
       "<Figure size 432x288 with 1 Axes>"
      ]
     },
     "metadata": {
      "needs_background": "light"
     },
     "output_type": "display_data"
    }
   ],
   "source": [
    "board = ChessBoard()\n",
    "board.add_red(3,5)\n",
    "board.add_blue(6,5)\n",
    "board.render()\n",
    "assert board.under_attack()\n",
    "print('Queen is under attack and she scurred')"
   ]
  },
  {
   "cell_type": "code",
   "execution_count": 30,
   "metadata": {},
   "outputs": [
    {
     "name": "stdout",
     "output_type": "stream",
     "text": [
      "Queen is under attack still\n"
     ]
    },
    {
     "data": {
      "image/png": "[encoded data removed]",
      "text/plain": [
       "<Figure size 432x288 with 1 Axes>"
      ]
     },
     "metadata": {
      "needs_background": "light"
     },
     "output_type": "display_data"
    }
   ],
   "source": [
    "board = ChessBoard()\n",
    "board.add_red(2,2)\n",
    "board.add_blue(6,6)\n",
    "board.render()\n",
    "assert board.under_attack()\n",
    "print('Queen is under attack still')"
   ]
  },
  {
   "cell_type": "code",
   "execution_count": 31,
   "metadata": {},
   "outputs": [
    {
     "name": "stdout",
     "output_type": "stream",
     "text": [
      "Queen is not being attacked\n"
     ]
    },
    {
     "data": {
      "image/png": "[encoded data removed]",
      "text/plain": [
       "<Figure size 432x288 with 1 Axes>"
      ]
     },
     "metadata": {
      "needs_background": "light"
     },
     "output_type": "display_data"
    }
   ],
   "source": [
    "board = ChessBoard()\n",
    "board.add_red(3,3)\n",
    "board.add_blue(6,4)\n",
    "board.render()\n",
    "assert not board.under_attack()\n",
    "print('Queen is not being attacked')"
   ]
  },
  {
   "cell_type": "code",
   "execution_count": null,
   "metadata": {},
   "outputs": [],
   "source": []
  }
 ],
 "metadata": {
  "kernelspec": {
   "display_name": "Python 3",
   "language": "python",
   "name": "python3"
  },
  "language_info": {
   "codemirror_mode": {
    "name": "ipython",
    "version": 3
   },
   "file_extension": ".py",
   "mimetype": "text/x-python",
   "name": "python",
   "nbconvert_exporter": "python",
   "pygments_lexer": "ipython3",
   "version": "3.8.5"
  }
 },
 "nbformat": 4,
 "nbformat_minor": 2
}
